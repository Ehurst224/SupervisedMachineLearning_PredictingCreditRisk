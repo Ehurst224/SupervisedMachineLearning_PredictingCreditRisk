{
 "cells": [
  {
   "cell_type": "code",
   "execution_count": 76,
   "metadata": {},
   "outputs": [],
   "source": [
    "import numpy as np\n",
    "import pandas as pd\n",
    "from pathlib import Path\n",
    "from sklearn.metrics import confusion_matrix\n",
    "from sklearn.preprocessing import StandardScaler\n",
    "from sklearn.ensemble import RandomForestClassifier\n",
    "from sklearn.linear_model import LogisticRegression"
   ]
  },
  {
   "cell_type": "code",
   "execution_count": 77,
   "metadata": {},
   "outputs": [],
   "source": [
    "train_df = pd.read_csv(Path('Resources/2019loans.csv'))\n",
    "test_df = pd.read_csv(Path('Resources/2020Q1loans.csv'))"
   ]
  },
  {
   "cell_type": "code",
   "execution_count": null,
   "metadata": {},
   "outputs": [
    {
     "data": {
      "application/vnd.jupyter.widget-view+json": {
       "model_id": "6684950730934e56a4ae6eb347f0dbdf",
       "version_major": 2,
       "version_minor": 0
      },
      "text/plain": [
       "                                             |                                             | [  0%]   00:00 ->…"
      ]
     },
     "metadata": {},
     "output_type": "display_data"
    }
   ],
   "source": [
    "# importing sweetviz\n",
    "import sweetviz as sv\n",
    "\n",
    "#analyzing the dataset\n",
    "advert_report = sv.analyze(test_df)\n",
    "#display the report\n",
    "advert_report.show_html('loans.html')"
   ]
  },
  {
   "cell_type": "code",
   "execution_count": null,
   "metadata": {},
   "outputs": [],
   "source": [
    "credit_features =[]\n",
    "counter=1\n",
    "for col in train_df.columns:\n",
    "    print(f\"{counter},{col}\")\n",
    "    counter=counter+1\n",
    "    credit_features.append(col)"
   ]
  },
  {
   "cell_type": "code",
   "execution_count": null,
   "metadata": {},
   "outputs": [],
   "source": [
    "y_train_list = train_df[\"loan_status\"]\n",
    "y_train_list"
   ]
  },
  {
   "cell_type": "code",
   "execution_count": null,
   "metadata": {},
   "outputs": [],
   "source": [
    "y_dummies_train= pd.get_dummies(y_train_list, drop_first = True)\n",
    "print(y_dummies_train.columns)\n",
    "y_dummies_train"
   ]
  },
  {
   "cell_type": "code",
   "execution_count": null,
   "metadata": {},
   "outputs": [],
   "source": [
    "y_test_list = test_df[\"loan_status\"]\n",
    "y_test_list"
   ]
  },
  {
   "cell_type": "code",
   "execution_count": null,
   "metadata": {},
   "outputs": [],
   "source": [
    "y_dummies_test= pd.get_dummies(y_test_list, drop_first = True)\n",
    "print(y_dummies_test.columns)\n",
    "y_dummies_test"
   ]
  },
  {
   "cell_type": "code",
   "execution_count": null,
   "metadata": {},
   "outputs": [],
   "source": [
    "# drop columns\n",
    "train_df = train_df.drop(columns=[\"Unnamed: 0\", \"index\", \"pymnt_plan\", \"recoveries\", \"collection_recovery_fee\", \"policy_code\", \"num_tl_120dpd_2m\", \"tax_liens\", \"loan_status\", \"debt_settlement_flag\"])\n",
    "test_df = test_df.drop(columns=[\"Unnamed: 0\", \"index\", \"pymnt_plan\", \"recoveries\", \"collection_recovery_fee\", \"policy_code\", \"num_tl_120dpd_2m\", \"tax_liens\", \"loan_status\"])"
   ]
  },
  {
   "cell_type": "code",
   "execution_count": null,
   "metadata": {},
   "outputs": [],
   "source": [
    "# Convert categorical data to numeric and separate target feature for training data\n",
    "X_dummies_train= pd.get_dummies(train_df, drop_first = True)\n",
    "print(X_dummies_train.columns)\n",
    "X_dummies_train"
   ]
  },
  {
   "cell_type": "code",
   "execution_count": null,
   "metadata": {},
   "outputs": [],
   "source": [
    "# Convert categorical data to numeric and separate target feature for testing data\n",
    "X_dummies_test= pd.get_dummies(test_df, drop_first = True)\n",
    "print(X_dummies_test.columns)\n",
    "X_dummies_test"
   ]
  },
  {
   "cell_type": "markdown",
   "metadata": {},
   "source": [
    "## Consider the models\n",
    "\n",
    "I believe the train data will perform better"
   ]
  },
  {
   "cell_type": "code",
   "execution_count": null,
   "metadata": {},
   "outputs": [],
   "source": [
    "# Train the Logistic Regression model on the unscaled data and print the model score\n",
    "classifier = LogisticRegression()\n",
    "classifier.fit(X_dummies_train, y_dummies_train)\n",
    "print(f\"Training Data Score: {classifier.score(X_dummies_train, y_dummies_train)}\")\n",
    "print(f\"Testing Data Score: {classifier.score(X_dummies_test, y_dummies_test)}\")"
   ]
  },
  {
   "cell_type": "code",
   "execution_count": null,
   "metadata": {},
   "outputs": [],
   "source": [
    "y_true = y_dummies_test\n",
    "y_pred = classifier.predict(X_dummies_test)\n",
    "confusion_matrix(y_true, y_pred)"
   ]
  },
  {
   "cell_type": "code",
   "execution_count": null,
   "metadata": {},
   "outputs": [],
   "source": [
    "# Train a Random Forest Classifier model and print the model score\n",
    "clf = RandomForestClassifier(random_state=1, n_estimators=1000).fit(X_dummies_train, y_dummies_train)\n",
    "print(f'Training Score: {clf.score(X_dummies_train, y_dummies_train)}')\n",
    "print(f'Testing Score: {clf.score(X_dummies_test, y_dummies_test)}')"
   ]
  },
  {
   "cell_type": "code",
   "execution_count": null,
   "metadata": {},
   "outputs": [],
   "source": [
    "# Scale the data\n",
    "scaler = StandardScaler()\n",
    "X_dummies_train_scaled = scaler.fit_transform(X_dummies_train)\n",
    "X_dummies_test_scaled = scaler.fit_transform(X_dummies_test)"
   ]
  },
  {
   "cell_type": "code",
   "execution_count": null,
   "metadata": {},
   "outputs": [],
   "source": [
    "# Train the Logistic Regression model on the scaled data and print the model score\n",
    "classifier.fit(X_train_scaled, y_dummies_train)\n",
    "print(f\"Training Data Score: {classifier.score(X_dummies_train_scaled, y_dummies_train)}\")\n",
    "print(f\"Testing Data Score: {classifier.score(X_dummies_test_scaled, y_dummies_test)}\")"
   ]
  },
  {
   "cell_type": "code",
   "execution_count": null,
   "metadata": {},
   "outputs": [],
   "source": [
    "# Train a Random Forest Classifier model on the scaled data and print the model score\n",
    "print(f'Testing Score: {clf.score(X_dummies_test_scaled, y_dummies_test)}')"
   ]
  },
  {
   "cell_type": "code",
   "execution_count": null,
   "metadata": {},
   "outputs": [],
   "source": []
  }
 ],
 "metadata": {
  "kernelspec": {
   "display_name": "Python 3",
   "language": "python",
   "name": "python3"
  },
  "language_info": {
   "codemirror_mode": {
    "name": "ipython",
    "version": 3
   },
   "file_extension": ".py",
   "mimetype": "text/x-python",
   "name": "python",
   "nbconvert_exporter": "python",
   "pygments_lexer": "ipython3",
   "version": "3.8.8"
  }
 },
 "nbformat": 4,
 "nbformat_minor": 4
}
